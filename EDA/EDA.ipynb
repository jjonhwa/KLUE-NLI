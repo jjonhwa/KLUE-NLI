{
 "cells": [
  {
   "cell_type": "code",
   "execution_count": null,
   "metadata": {},
   "outputs": [],
   "source": [
    "# Colab 한글 폰트 설정\n",
    "!sudo apt-get install -y fonts-nanum\n",
    "!sudo fc-cache -fv\n",
    "!rm ~/.cache/matplotlib -rf\n",
    "\n",
    "# Transformer Library Download\n",
    "!pip install transformers\n",
    "\n",
    "# Github Clone\n",
    "!git clone https://github.com/jjonhwa/KLUE-NLI.git\n",
    "\n",
    "# Dataset Unzip\n",
    "!unzip -q '/content/KLUE-NLI/data/open.zip' -d '/content/data'"
   ]
  },
  {
   "cell_type": "code",
   "execution_count": null,
   "metadata": {},
   "outputs": [],
   "source": [
    "# Library Import\n",
    "import matplotlib.pyplot as plt\n",
    "plt.rc('font', family='NanumBarunGothic') \n",
    "import pandas as pd\n",
    "import os\n",
    "\n",
    "from transformers import AutoTokenizer\n",
    "\n",
    "%cd KLUE-NLI\n",
    "from utils.nlpdata_eda import corpus_statistic_with_graph"
   ]
  },
  {
   "cell_type": "code",
   "execution_count": null,
   "metadata": {},
   "outputs": [],
   "source": [
    "# Dataset 불러오기\n",
    "PATH = '/content/data/open'\n",
    "train = pd.read_csv(os.path.join(PATH, 'train_data.csv'), encoding = 'utf-8')\n",
    "test = pd.read_csv(os.path.join(PATH, 'test_data.csv'), encoding = 'utf-8')\n",
    "\n",
    "# index label 삭제\n",
    "train.drop(['index'], axis = 1, inplace = True)\n",
    "test.drop(['index'], axis = 1, inplace = True)"
   ]
  },
  {
   "cell_type": "markdown",
   "metadata": {},
   "source": [
    "## Dataset 분포 확인"
   ]
  },
  {
   "cell_type": "code",
   "execution_count": null,
   "metadata": {},
   "outputs": [],
   "source": [
    "# null값 확인\n",
    "print(train.info(), end='\\n\\n')\n",
    "print(test.info())"
   ]
  },
  {
   "cell_type": "code",
   "execution_count": null,
   "metadata": {},
   "outputs": [],
   "source": [
    "# Label 분포 확인\n",
    "feature = train['label']\n",
    "\n",
    "plt.figure(figsize=(10,7.5))\n",
    "plt.title('Label Count', fontsize=20)\n",
    "\n",
    "temp = feature.value_counts()\n",
    "plt.bar(temp.keys(), temp.values, width=0.5, color='b', alpha=0.5)\n",
    "plt.text(-0.05, temp.values[0]+20, s=temp.values[0])\n",
    "plt.text(0.95, temp.values[1]+20, s=temp.values[1])\n",
    "plt.text(1.95, temp.values[2]+20, s=temp.values[2])\n",
    "\n",
    "plt.xticks(temp.keys(), fontsize=12) # x축 값, 폰트 크기 설정\n",
    "plt.tight_layout(rect=[0, 0.03, 1, 0.95]) # 레이아웃 설정\n",
    "plt.show() # 그래프 나타내기"
   ]
  },
  {
   "cell_type": "markdown",
   "metadata": {},
   "source": [
    "## Token Length 확인"
   ]
  },
  {
   "cell_type": "code",
   "execution_count": null,
   "metadata": {},
   "outputs": [],
   "source": [
    "# Tokenizer Download\n",
    "MODEL_NAME = 'klue/roberta-large'\n",
    "tokenizer = AutoTokenizer.from_pretrained(MODEL_NAME)"
   ]
  },
  {
   "cell_type": "code",
   "execution_count": null,
   "metadata": {},
   "outputs": [],
   "source": [
    "# 예시 출력\n",
    "example_format = list(train['premise'])[0]\n",
    "print(tokenizer.tokenize(example_format))"
   ]
  },
  {
   "cell_type": "markdown",
   "metadata": {},
   "source": [
    "### Train / Test Tokenizer Check"
   ]
  },
  {
   "cell_type": "code",
   "execution_count": null,
   "metadata": {},
   "outputs": [],
   "source": [
    "# Token Length 확인\n",
    "checks = ['train', 'test']\n",
    "for check in checks :\n",
    "    if check == 'train' :\n",
    "        train_premise_eda = corpus_statistic_with_graph(list(train['premise']), tokenizer_type = 'wordpiece', tokenizer = tokenizer)\n",
    "        print(train_premise_eda)\n",
    "        train_hypothesis_eda = corpus_statistic_with_graph(list(train['hypothesis']), tokenizer_type = 'wordpiece', tokenizer = tokenizer)\n",
    "        print(train_hypothesis_eda)\n",
    "    elif check == 'test' :\n",
    "        test_premise_eda = corpus_statistic_with_graph(list(test['premise']), tokenizer_type = 'wordpiece', tokenizer = tokenizer)\n",
    "        print(test_premise_eda)\n",
    "        test_hypothesis_eda = corpus_statistic_with_graph(list(test['hypothesis']), tokenizer_type = 'wordpiece', tokenizer = tokenizer)\n",
    "        print(test_hypothesis_eda)"
   ]
  },
  {
   "cell_type": "code",
   "execution_count": null,
   "metadata": {},
   "outputs": [],
   "source": [
    "# Token Length 64 기준으로 비율 확인\n",
    "drop_premise_list = ([], [])\n",
    "drop_hypothesis_list = ([], [])\n",
    "\n",
    "for check in checks :\n",
    "    if check == 'train' :\n",
    "        premise_sentence = train['premise']\n",
    "        hypothesis_sentence = train['hypothesis']\n",
    "    elif check == 'test' :\n",
    "        premise_sentence = test['premise']\n",
    "        hypothesis_sentence = test['hypothesis']\n",
    "\n",
    "    for i, sent in enumerate(premise_sentence) :\n",
    "        words = tokenizer.tokenize(sent)\n",
    "        if len(words) > 64 :\n",
    "            if check == 'train' :\n",
    "                drop_premise_list[0].append(i)\n",
    "            elif check == 'test' :\n",
    "                drop_premise_list[1].append(i)\n",
    "\n",
    "    for i, sent in enumerate(hypothesis_sentence) :\n",
    "        words = tokenizer.tokenize(sent)\n",
    "        if len(words) > 64 :\n",
    "            if check == 'train' :\n",
    "                drop_hypothesis_list[0].append(i)\n",
    "            elif check == 'test' :\n",
    "                drop_hypothesis_list[1].append(i)"
   ]
  },
  {
   "cell_type": "code",
   "execution_count": null,
   "metadata": {},
   "outputs": [],
   "source": [
    "import matplotlib.pyplot as plt\n",
    "\n",
    "train_premise_out = (len(drop_premise_list[0]) / len(train))*100\n",
    "train_hypothesis_out = (len(drop_hypothesis_list[0]) / len(train))*100\n",
    "test_premise_out = (len(drop_premise_list[1]) / len(test))*100\n",
    "test_hypothesis_out = (len(drop_hypothesis_list[1]) / len(test))*100\n",
    "train_premise_in = 100-train_premise_out\n",
    "train_hypothesis_in = 100-train_hypothesis_out\n",
    "test_premise_in = 100-test_premise_out\n",
    "test_hypothesis_in = 100-test_hypothesis_out\n",
    "\n",
    "train_premise_ratio = [train_premise_in, train_premise_out]\n",
    "test_premise_ratio = [test_premise_in, test_premise_out]\n",
    "\n",
    "train_hypothesis_ratio = [train_hypothesis_in, train_hypothesis_out]\n",
    "test_hypothesis_ratio = [test_hypothesis_in, test_hypothesis_out]\n",
    "\n",
    "train_labels = ['64이하', '64이상']\n",
    "test_labels = ['64이하', '64이상']\n",
    "\n",
    "plt.figure(figsize = (12,8))\n",
    "plt.subplot(2,2,1)\n",
    "plt.pie(train_premise_ratio, \n",
    "        labels=train_labels,\n",
    "        autopct='%.2f%%',\n",
    "        colors=['darkgreen', 'firebrick'],\n",
    "        startangle=90,\n",
    "        textprops={'fontsize':14, 'weight': 'bold'},\n",
    "        shadow=False,\n",
    "        explode=(0.1, 0.1))\n",
    "plt.title('Train - Premise', size=25)\n",
    "\n",
    "plt.subplot(2,2,2)\n",
    "plt.pie(train_hypothesis_ratio, \n",
    "        labels=train_labels,\n",
    "        autopct='%.2f%%',\n",
    "        colors=['darkgreen', 'firebrick'],\n",
    "        startangle=90,\n",
    "        textprops={'fontsize':14, 'weight': 'bold'},\n",
    "        shadow=False,\n",
    "        explode=(0.1, 0.1))\n",
    "plt.title('Train - Hypothesis', size=25)\n",
    "\n",
    "plt.figure(figsize = (12,8))\n",
    "plt.subplot(2,2,1)\n",
    "plt.pie(test_premise_ratio, \n",
    "        labels=test_labels,\n",
    "        autopct='%.2f%%',\n",
    "        colors=['darkgreen', 'firebrick'],\n",
    "        startangle=90,\n",
    "        textprops={'fontsize':14, 'weight': 'bold'},\n",
    "        shadow=False,\n",
    "        explode=(0.1, 0.1))\n",
    "plt.title('Test - Premise', size=25)\n",
    "\n",
    "plt.subplot(2,2,2)\n",
    "plt.pie(test_hypothesis_ratio, \n",
    "        labels=test_labels,\n",
    "        autopct='%.2f%%',\n",
    "        colors=['darkgreen', 'firebrick'],\n",
    "        startangle=90,\n",
    "        textprops={'fontsize':14, 'weight': 'bold'},\n",
    "        shadow=False,\n",
    "        explode=(0.1, 0.1))\n",
    "plt.title('Test - Hypothesis', size=25)\n",
    "plt.show()"
   ]
  }
 ],
 "metadata": {
  "language_info": {
   "name": "python"
  },
  "orig_nbformat": 4
 },
 "nbformat": 4,
 "nbformat_minor": 2
}
